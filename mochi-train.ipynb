{
 "cells": [
  {
   "cell_type": "code",
   "execution_count": null,
   "metadata": {
    "vscode": {
     "languageId": "plaintext"
    }
   },
   "outputs": [],
   "source": [
    "!pip install torch==2.5.1+cu124 torchvision==0.20.1+cu124 torchaudio==2.5.1+cu124 torchtext==0.18.0 torchdata==0.8.0 --extra-index-url https://download.pytorch.org/whl/cu124\n",
    "!pip install xformers==0.0.28.post3\n",
    "\n",
    "%cd /workspace\n",
    "!git clone https://github.com/genmoai/mochi\n",
    "%cd /workspace/mochi\n",
    "\n",
    "!pip install -r requirements.txt\n",
    "!pip install .\n",
    "\n",
    "!apt update && apt install aria2 -qqy\n",
    "\n",
    "!aria2c --console-log-level=error -c -x 16 -s 16 -k 1M https://huggingface.co/camenduru/mochi-test/resolve/main/videos/video_1.mp4 -d /workspace/mochi/videos -o video_1.mp4\n",
    "!aria2c --console-log-level=error -c -x 16 -s 16 -k 1M https://huggingface.co/camenduru/mochi-test/raw/main/videos/video_1.txt -d /workspace/mochi/videos -o video_1.txt\n",
    "!aria2c --console-log-level=error -c -x 16 -s 16 -k 1M https://huggingface.co/camenduru/mochi-test/resolve/main/videos/video_2.mp4 -d /workspace/mochi/videos -o video_2.mp4\n",
    "!aria2c --console-log-level=error -c -x 16 -s 16 -k 1M https://huggingface.co/camenduru/mochi-test/raw/main/videos/video_3.txt -d /workspace/mochi/videos -o video_3.txt\n",
    "!aria2c --console-log-level=error -c -x 16 -s 16 -k 1M https://huggingface.co/camenduru/mochi-test/resolve/main/videos/video_4.mp4 -d /workspace/mochi/videos -o video_4.mp4\n",
    "!aria2c --console-log-level=error -c -x 16 -s 16 -k 1M https://huggingface.co/camenduru/mochi-test/raw/main/videos/video_4.txt -d /workspace/mochi/videos -o video_4.txt\n",
    "!aria2c --console-log-level=error -c -x 16 -s 16 -k 1M https://huggingface.co/camenduru/mochi-test/resolve/main/videos/video_5.mp4 -d /workspace/mochi/videos -o video_5.mp4\n",
    "!aria2c --console-log-level=error -c -x 16 -s 16 -k 1M https://huggingface.co/camenduru/mochi-test/raw/main/videos/video_5.txt -d /workspace/mochi/videos -o video_5.txt\n",
    "!aria2c --console-log-level=error -c -x 16 -s 16 -k 1M https://huggingface.co/camenduru/mochi-test/resolve/main/videos/video_6.mp4 -d /workspace/mochi/videos -o video_6.mp4\n",
    "!aria2c --console-log-level=error -c -x 16 -s 16 -k 1M https://huggingface.co/camenduru/mochi-test/raw/main/videos/video_6.txt -d /workspace/mochi/videos -o video_6.txt\n",
    "!aria2c --console-log-level=error -c -x 16 -s 16 -k 1M https://huggingface.co/camenduru/mochi-test/resolve/main/videos/video_7.mp4 -d /workspace/mochi/videos -o video_7.mp4\n",
    "!aria2c --console-log-level=error -c -x 16 -s 16 -k 1M https://huggingface.co/camenduru/mochi-test/raw/main/videos/video_7.txt -d /workspace/mochi/videos -o video_7.txt\n",
    "!aria2c --console-log-level=error -c -x 16 -s 16 -k 1M https://huggingface.co/camenduru/mochi-test/resolve/main/videos/video_8.mp4 -d /workspace/mochi/videos -o video_8.mp4\n",
    "!aria2c --console-log-level=error -c -x 16 -s 16 -k 1M https://huggingface.co/camenduru/mochi-test/raw/main/videos/video_8.txt -d /workspace/mochi/videos -o video_8.txt\n",
    "!aria2c --console-log-level=error -c -x 16 -s 16 -k 1M https://huggingface.co/camenduru/mochi-test/resolve/main/videos/video_9.mp4 -d /workspace/mochi/videos -o video_9.mp4\n",
    "!aria2c --console-log-level=error -c -x 16 -s 16 -k 1M https://huggingface.co/camenduru/mochi-test/raw/main/videos/video_9.txt -d /workspace/mochi/videos -o video_9.txt\n",
    "!aria2c --console-log-level=error -c -x 16 -s 16 -k 1M https://huggingface.co/camenduru/mochi-test/resolve/main/videos/video_10.mp4 -d /workspace/mochi/videos -o video_10.mp4\n",
    "!aria2c --console-log-level=error -c -x 16 -s 16 -k 1M https://huggingface.co/camenduru/mochi-test/raw/main/videos/video_10.txt -d /workspace/mochi/videos -o video_10.txt\n",
    "!aria2c --console-log-level=error -c -x 16 -s 16 -k 1M https://huggingface.co/camenduru/mochi-test/resolve/main/videos/video_11.mp4 -d /workspace/mochi/videos -o video_11.mp4\n",
    "!aria2c --console-log-level=error -c -x 16 -s 16 -k 1M https://huggingface.co/camenduru/mochi-test/raw/main/videos/video_11.txt -d /workspace/mochi/videos -o video_11.txt\n",
    "!aria2c --console-log-level=error -c -x 16 -s 16 -k 1M https://huggingface.co/camenduru/mochi-test/resolve/main/videos/video_12.mp4 -d /workspace/mochi/videos -o video_12.mp4\n",
    "!aria2c --console-log-level=error -c -x 16 -s 16 -k 1M https://huggingface.co/camenduru/mochi-test/raw/main/videos/video_12.txt -d /workspace/mochi/videos -o video_12.txt\n",
    "!aria2c --console-log-level=error -c -x 16 -s 16 -k 1M https://huggingface.co/camenduru/mochi-test/resolve/main/videos/video_13.mp4 -d /workspace/mochi/videos -o video_13.mp4\n",
    "!aria2c --console-log-level=error -c -x 16 -s 16 -k 1M https://huggingface.co/camenduru/mochi-test/raw/main/videos/video_13.txt -d /workspace/mochi/videos -o video_13.txt\n",
    "!aria2c --console-log-level=error -c -x 16 -s 16 -k 1M https://huggingface.co/camenduru/mochi-test/resolve/main/videos/video_14.mp4 -d /workspace/mochi/videos -o video_14.mp4\n",
    "!aria2c --console-log-level=error -c -x 16 -s 16 -k 1M https://huggingface.co/camenduru/mochi-test/raw/main/videos/video_14.txt -d /workspace/mochi/videos -o video_14.txt\n",
    "!aria2c --console-log-level=error -c -x 16 -s 16 -k 1M https://huggingface.co/camenduru/mochi-test/resolve/main/videos/video_15.mp4 -d /workspace/mochi/videos -o video_15.mp4\n",
    "!aria2c --console-log-level=error -c -x 16 -s 16 -k 1M https://huggingface.co/camenduru/mochi-test/raw/main/videos/video_15.txt -d /workspace/mochi/videos -o video_15.txt\n",
    "\n",
    "!aria2c --console-log-level=error -c -x 16 -s 16 -k 1M https://huggingface.co/genmo/mochi-1-preview/resolve/main/dit.safetensors -d /workspace/mochi/weights -o dit.safetensors\n",
    "!aria2c --console-log-level=error -c -x 16 -s 16 -k 1M https://huggingface.co/genmo/mochi-1-preview/resolve/main/decoder.safetensors -d /workspace/mochi/weights -o decoder.safetensors\n",
    "!aria2c --console-log-level=error -c -x 16 -s 16 -k 1M https://huggingface.co/genmo/mochi-1-preview/resolve/main/encoder.safetensors -d /workspace/mochi/weights -o encoder.safetensors"
   ]
  },
  {
   "cell_type": "code",
   "execution_count": null,
   "metadata": {
    "vscode": {
     "languageId": "plaintext"
    }
   },
   "outputs": [],
   "source": [
    "%cd /workspace/mochi\n",
    "!bash demos/fine_tuner/preprocess.bash -v videos/ -o videos_prepared/ -w weights/ --num_frames 37"
   ]
  },
  {
   "cell_type": "code",
   "execution_count": null,
   "metadata": {
    "vscode": {
     "languageId": "plaintext"
    }
   },
   "outputs": [],
   "source": [
    "%cd /workspace/mochi\n",
    "!bash demos/fine_tuner/run.bash -c demos/fine_tuner/configs/lora.yaml -n 1"
   ]
  }
 ],
 "metadata": {
  "language_info": {
   "name": "python"
  }
 },
 "nbformat": 4,
 "nbformat_minor": 2
}
